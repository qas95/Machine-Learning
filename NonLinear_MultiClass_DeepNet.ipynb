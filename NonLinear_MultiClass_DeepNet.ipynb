{
  "nbformat": 4,
  "nbformat_minor": 0,
  "metadata": {
    "colab": {
      "name": "NonLinear_MultiClass_DeepNet.ipynb",
      "provenance": [],
      "authorship_tag": "ABX9TyNxH+miQF91BlC4Y4xU1POf",
      "include_colab_link": true
    },
    "kernelspec": {
      "name": "python3",
      "display_name": "Python 3"
    }
  },
  "cells": [
    {
      "cell_type": "markdown",
      "metadata": {
        "id": "view-in-github",
        "colab_type": "text"
      },
      "source": [
        "<a href=\"https://colab.research.google.com/github/qas95/Machine-Learning/blob/main/NonLinear_MultiClass_DeepNet.ipynb\" target=\"_parent\"><img src=\"https://colab.research.google.com/assets/colab-badge.svg\" alt=\"Open In Colab\"/></a>"
      ]
    },
    {
      "cell_type": "code",
      "metadata": {
        "id": "6H16SHIXNJal"
      },
      "source": [
        "import numpy as np\n",
        "import sklearn\n",
        "from sklearn import datasets\n",
        "import matplotlib.pyplot as plt\n",
        "from keras.models import Sequential\n",
        "from keras.layers import Dense\n",
        "from keras.optimizers import Adam\n",
        "from keras.utils.np_utils import to_categorical"
      ],
      "execution_count": null,
      "outputs": []
    },
    {
      "cell_type": "code",
      "metadata": {
        "id": "zZWn_sG-NgRQ"
      },
      "source": [
        "#Creating a nonlinearly separable datsets for MultiClass Classification\n",
        "n_pts = 500\n",
        "centers = [[-1, -1], [-1,1], [1,-1], [1,1], [0.1,-3]]\n",
        "X, y = datasets.make_blobs(n_pts, random_state = 42, centers = centers, cluster_std= 0.5)"
      ],
      "execution_count": null,
      "outputs": []
    },
    {
      "cell_type": "code",
      "metadata": {
        "colab": {
          "base_uri": "https://localhost:8080/",
          "height": 265
        },
        "id": "wnmnI69JN_Pe",
        "outputId": "cc552d22-2750-459f-81cb-6269ef57a5c5"
      },
      "source": [
        "#Displaying data points\n",
        "plt.scatter(X[y==0, 0], X[y==0, 1])\n",
        "plt.scatter(X[y==1, 0], X[y==1, 1])\n",
        "plt.scatter(X[y==2, 0], X[y==2, 1])\n",
        "plt.scatter(X[y==3, 0], X[y==3, 1])\n",
        "plt.scatter(X[y==4, 0], X[y==4, 1])\n",
        "plt.show()"
      ],
      "execution_count": null,
      "outputs": [
        {
          "output_type": "display_data",
          "data": {
            "image/png": "[encoded data removed]",
            "text/plain": [
              "<Figure size 432x288 with 1 Axes>"
            ]
          },
          "metadata": {
            "tags": [],
            "needs_background": "light"
          }
        }
      ]
    },
    {
      "cell_type": "code",
      "metadata": {
        "id": "ne6oOccKOaFR"
      },
      "source": [
        "#One hot encoding class labels\n",
        "y_cats = to_categorical(y,5)"
      ],
      "execution_count": null,
      "outputs": []
    },
    {
      "cell_type": "code",
      "metadata": {
        "colab": {
          "base_uri": "https://localhost:8080/"
        },
        "id": "9hv3_yQJPcp4",
        "outputId": "13c69252-184d-4526-a08e-cd4efdc0ef1a"
      },
      "source": [
        "#Defining a Neural Net\n",
        "\n",
        "model = Sequential()\n",
        "adam = Adam(lr = 0.05)\n",
        "model.add(Dense(5,input_shape = (2,), activation = 'softmax'))\n",
        "model.compile(optimizer=adam, loss = 'categorical_crossentropy',metrics = ['accuracy'])\n",
        "model.fit(X,y_cats, epochs=50, verbose = 1, batch_size=20)\n"
      ],
      "execution_count": null,
      "outputs": [
        {
          "output_type": "stream",
          "text": [
            "Epoch 1/50\n",
            "25/25 [==============================] - 0s 1ms/step - loss: 1.1464 - accuracy: 0.5642\n",
            "Epoch 2/50\n",
            "25/25 [==============================] - 0s 996us/step - loss: 0.4759 - accuracy: 0.9536\n",
            "Epoch 3/50\n",
            "25/25 [==============================] - 0s 1ms/step - loss: 0.3219 - accuracy: 0.9546\n",
            "Epoch 4/50\n",
            "25/25 [==============================] - 0s 931us/step - loss: 0.2630 - accuracy: 0.9585\n",
            "Epoch 5/50\n",
            "25/25 [==============================] - 0s 1ms/step - loss: 0.2063 - accuracy: 0.9514\n",
            "Epoch 6/50\n",
            "25/25 [==============================] - 0s 982us/step - loss: 0.1927 - accuracy: 0.9668\n",
            "Epoch 7/50\n",
            "25/25 [==============================] - 0s 1ms/step - loss: 0.1674 - accuracy: 0.9629\n",
            "Epoch 8/50\n",
            "25/25 [==============================] - 0s 1ms/step - loss: 0.1654 - accuracy: 0.9619\n",
            "Epoch 9/50\n",
            "25/25 [==============================] - 0s 1ms/step - loss: 0.1611 - accuracy: 0.9612\n",
            "Epoch 10/50\n",
            "25/25 [==============================] - 0s 1ms/step - loss: 0.1737 - accuracy: 0.9455\n",
            "Epoch 11/50\n",
            "25/25 [==============================] - 0s 1ms/step - loss: 0.1489 - accuracy: 0.9664\n",
            "Epoch 12/50\n",
            "25/25 [==============================] - 0s 968us/step - loss: 0.1222 - accuracy: 0.9606\n",
            "Epoch 13/50\n",
            "25/25 [==============================] - 0s 990us/step - loss: 0.1403 - accuracy: 0.9538\n",
            "Epoch 14/50\n",
            "25/25 [==============================] - 0s 1ms/step - loss: 0.1271 - accuracy: 0.9664\n",
            "Epoch 15/50\n",
            "25/25 [==============================] - 0s 1ms/step - loss: 0.1316 - accuracy: 0.9515\n",
            "Epoch 16/50\n",
            "25/25 [==============================] - 0s 1ms/step - loss: 0.1314 - accuracy: 0.9476\n",
            "Epoch 17/50\n",
            "25/25 [==============================] - 0s 1ms/step - loss: 0.1135 - accuracy: 0.9588\n",
            "Epoch 18/50\n",
            "25/25 [==============================] - 0s 1ms/step - loss: 0.1453 - accuracy: 0.9536\n",
            "Epoch 19/50\n",
            "25/25 [==============================] - 0s 944us/step - loss: 0.1177 - accuracy: 0.9587\n",
            "Epoch 20/50\n",
            "25/25 [==============================] - 0s 985us/step - loss: 0.1109 - accuracy: 0.9728\n",
            "Epoch 21/50\n",
            "25/25 [==============================] - 0s 1ms/step - loss: 0.1202 - accuracy: 0.9506\n",
            "Epoch 22/50\n",
            "25/25 [==============================] - 0s 2ms/step - loss: 0.1171 - accuracy: 0.9610\n",
            "Epoch 23/50\n",
            "25/25 [==============================] - 0s 1ms/step - loss: 0.1320 - accuracy: 0.9509\n",
            "Epoch 24/50\n",
            "25/25 [==============================] - 0s 943us/step - loss: 0.0988 - accuracy: 0.9678\n",
            "Epoch 25/50\n",
            "25/25 [==============================] - 0s 1ms/step - loss: 0.1023 - accuracy: 0.9670\n",
            "Epoch 26/50\n",
            "25/25 [==============================] - 0s 988us/step - loss: 0.1043 - accuracy: 0.9730\n",
            "Epoch 27/50\n",
            "25/25 [==============================] - 0s 1ms/step - loss: 0.0988 - accuracy: 0.9711\n",
            "Epoch 28/50\n",
            "25/25 [==============================] - 0s 961us/step - loss: 0.1044 - accuracy: 0.9560\n",
            "Epoch 29/50\n",
            "25/25 [==============================] - 0s 1ms/step - loss: 0.0894 - accuracy: 0.9758\n",
            "Epoch 30/50\n",
            "25/25 [==============================] - 0s 999us/step - loss: 0.1162 - accuracy: 0.9575\n",
            "Epoch 31/50\n",
            "25/25 [==============================] - 0s 1ms/step - loss: 0.0909 - accuracy: 0.9699\n",
            "Epoch 32/50\n",
            "25/25 [==============================] - 0s 1ms/step - loss: 0.1038 - accuracy: 0.9655\n",
            "Epoch 33/50\n",
            "25/25 [==============================] - 0s 1ms/step - loss: 0.1079 - accuracy: 0.9627\n",
            "Epoch 34/50\n",
            "25/25 [==============================] - 0s 1ms/step - loss: 0.0901 - accuracy: 0.9667\n",
            "Epoch 35/50\n",
            "25/25 [==============================] - 0s 1ms/step - loss: 0.0849 - accuracy: 0.9732\n",
            "Epoch 36/50\n",
            "25/25 [==============================] - 0s 1ms/step - loss: 0.1058 - accuracy: 0.9604\n",
            "Epoch 37/50\n",
            "25/25 [==============================] - 0s 1ms/step - loss: 0.1113 - accuracy: 0.9509\n",
            "Epoch 38/50\n",
            "25/25 [==============================] - 0s 1ms/step - loss: 0.0827 - accuracy: 0.9762\n",
            "Epoch 39/50\n",
            "25/25 [==============================] - 0s 1ms/step - loss: 0.1069 - accuracy: 0.9577\n",
            "Epoch 40/50\n",
            "25/25 [==============================] - 0s 1ms/step - loss: 0.0826 - accuracy: 0.9709\n",
            "Epoch 41/50\n",
            "25/25 [==============================] - 0s 1ms/step - loss: 0.0948 - accuracy: 0.9788\n",
            "Epoch 42/50\n",
            "25/25 [==============================] - 0s 1ms/step - loss: 0.0958 - accuracy: 0.9613\n",
            "Epoch 43/50\n",
            "25/25 [==============================] - 0s 1ms/step - loss: 0.0902 - accuracy: 0.9691\n",
            "Epoch 44/50\n",
            "25/25 [==============================] - 0s 1ms/step - loss: 0.0975 - accuracy: 0.9545\n",
            "Epoch 45/50\n",
            "25/25 [==============================] - 0s 1ms/step - loss: 0.1226 - accuracy: 0.9558\n",
            "Epoch 46/50\n",
            "25/25 [==============================] - 0s 1ms/step - loss: 0.0805 - accuracy: 0.9755\n",
            "Epoch 47/50\n",
            "25/25 [==============================] - 0s 1ms/step - loss: 0.1136 - accuracy: 0.9570\n",
            "Epoch 48/50\n",
            "25/25 [==============================] - 0s 1ms/step - loss: 0.0922 - accuracy: 0.9653\n",
            "Epoch 49/50\n",
            "25/25 [==============================] - 0s 972us/step - loss: 0.0838 - accuracy: 0.9673\n",
            "Epoch 50/50\n",
            "25/25 [==============================] - 0s 1ms/step - loss: 0.0879 - accuracy: 0.9637\n"
          ],
          "name": "stdout"
        },
        {
          "output_type": "execute_result",
          "data": {
            "text/plain": [
              "<tensorflow.python.keras.callbacks.History at 0x7f6bc6150908>"
            ]
          },
          "metadata": {
            "tags": []
          },
          "execution_count": 69
        }
      ]
    },
    {
      "cell_type": "code",
      "metadata": {
        "id": "kSqp2VCvPdsp"
      },
      "source": [
        "#Plotting a contour plot of the decision boundary\n",
        "x_span = np.linspace(X[:,0].min(), X[:,0].max())\n",
        "y_span = np.linspace(X[:,1].min(), X[:,1].max())\n",
        "xx, yy = np.meshgrid(x_span, y_span)\n",
        "xx_ = xx.ravel()\n",
        "yy_ = yy.ravel()\n",
        "grid = np.c_[xx_,yy_]\n",
        "\n",
        "preds = np.argmax(model.predict(grid), axis=-1)"
      ],
      "execution_count": null,
      "outputs": []
    },
    {
      "cell_type": "code",
      "metadata": {
        "colab": {
          "base_uri": "https://localhost:8080/"
        },
        "id": "MtZP_4J5XaBv",
        "outputId": "f5350d58-80b1-48f6-d4b7-8f76c357bb34"
      },
      "source": [
        "preds"
      ],
      "execution_count": null,
      "outputs": [
        {
          "output_type": "execute_result",
          "data": {
            "text/plain": [
              "array([0, 4, 4, ..., 3, 3, 3])"
            ]
          },
          "metadata": {
            "tags": []
          },
          "execution_count": 71
        }
      ]
    },
    {
      "cell_type": "code",
      "metadata": {
        "colab": {
          "base_uri": "https://localhost:8080/",
          "height": 265
        },
        "id": "uUtBYwiURcAq",
        "outputId": "be805324-b00e-4d16-cc17-18bc29ab2b92"
      },
      "source": [
        "plt.contourf(xx, yy, preds.reshape(xx.shape))\n",
        "plt.scatter(X[y==0, 0], X[y==0, 1])\n",
        "plt.scatter(X[y==1, 0], X[y==1, 1])\n",
        "plt.scatter(X[y==2, 0], X[y==2, 1])\n",
        "plt.scatter(X[y==3, 0], X[y==3, 1])\n",
        "plt.scatter(X[y==4, 0], X[y==4, 1])\n",
        "plt.show()"
      ],
      "execution_count": null,
      "outputs": [
        {
          "output_type": "display_data",
          "data": {
            "image/png": "[encoded data removed]",
            "text/plain": [
              "<Figure size 432x288 with 1 Axes>"
            ]
          },
          "metadata": {
            "tags": [],
            "needs_background": "light"
          }
        }
      ]
    },
    {
      "cell_type": "code",
      "metadata": {
        "id": "XMtMJ3E8Sdb_"
      },
      "source": [
        ""
      ],
      "execution_count": null,
      "outputs": []
    },
    {
      "cell_type": "code",
      "metadata": {
        "id": "HIg-4LPjSrAX"
      },
      "source": [
        ""
      ],
      "execution_count": null,
      "outputs": []
    }
  ]
}